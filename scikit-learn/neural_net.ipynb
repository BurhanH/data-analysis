{
 "cells": [
  {
   "cell_type": "code",
   "execution_count": 1,
   "metadata": {},
   "outputs": [
    {
     "name": "stdout",
     "output_type": "stream",
     "text": [
      "90.95744680851064 accuracy\n"
     ]
    }
   ],
   "source": [
    "# pip install scikit-learn\n",
    "\n",
    "from sklearn.neural_network import MLPClassifier     # import classifier\n",
    "\n",
    "from sklearn.datasets import load_breast_cancer      # import targeting data set\n",
    "\n",
    "from sklearn.model_selection import train_test_split #\n",
    "\n",
    "\n",
    "data = load_breast_cancer()  # loading and saving a data set\n",
    "\n",
    "attributes = data.data       # gettting attributes\n",
    "\n",
    "labels = data.target         # getting labels\n",
    "\n",
    "attributes_train, attributes_test, labels_train, labels_test = train_test_split(attributes, labels, test_size=0.33)\n",
    "\n",
    "\n",
    "neural_net = MLPClassifier(solver='lbfgs', activation='logistic', alpha=10.0)\n",
    "neural_net.fit(attributes_train, labels_train)\n",
    "accuracy = neural_net.score(attributes_test, labels_test)\n",
    "print(f'{accuracy *100} accuracy')"
   ]
  },
  {
   "cell_type": "code",
   "execution_count": null,
   "metadata": {},
   "outputs": [],
   "source": []
  }
 ],
 "metadata": {
  "kernelspec": {
   "display_name": "Python 3",
   "language": "python",
   "name": "python3"
  },
  "language_info": {
   "codemirror_mode": {
    "name": "ipython",
    "version": 3
   },
   "file_extension": ".py",
   "mimetype": "text/x-python",
   "name": "python",
   "nbconvert_exporter": "python",
   "pygments_lexer": "ipython3",
   "version": "3.7.3"
  }
 },
 "nbformat": 4,
 "nbformat_minor": 2
}
